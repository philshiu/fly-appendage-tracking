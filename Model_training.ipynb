{
  "nbformat": 4,
  "nbformat_minor": 0,
  "metadata": {
    "colab": {
      "provenance": [],
      "include_colab_link": true
    },
    "kernelspec": {
      "name": "python3",
      "display_name": "Python 3"
    },
    "accelerator": "GPU"
  },
  "cells": [
    {
      "cell_type": "markdown",
      "metadata": {
        "id": "view-in-github",
        "colab_type": "text"
      },
      "source": [
        "<a href=\"https://colab.research.google.com/github/philshiu/fly-appendage-tracking/blob/main/Model_training.ipynb\" target=\"_parent\"><img src=\"https://colab.research.google.com/assets/colab-badge.svg\" alt=\"Open In Colab\"/></a>"
      ]
    },
    {
      "cell_type": "markdown",
      "source": [
        "In this notebook, we train a deep neural network to track particular body parts of the fly."
      ],
      "metadata": {
        "id": "BRSTze03Kh-w"
      }
    },
    {
      "cell_type": "code",
      "metadata": {
        "colab": {
          "base_uri": "https://localhost:8080/",
          "height": 1000
        },
        "outputId": "ff4496fe-3a7c-4a62-9ac2-f047f92dacab",
        "id": "ixCC58Xa5d0c"
      },
      "source": [
        "!pip install deeplabcut"
      ],
      "execution_count": null,
      "outputs": [
        {
          "output_type": "stream",
          "text": [
            "Collecting deeplabcut\n",
            "\u001b[?25l  Downloading https://files.pythonhosted.org/packages/8c/95/19be82d9fc9b109c3de8ea1b94fbde8e80387a1dcefe81133147127a5f97/deeplabcut-2.1.10-py3-none-any.whl (684kB)\n",
            "\u001b[K     |████████████████████████████████| 686kB 7.1MB/s \n",
            "\u001b[?25hCollecting ruamel.yaml>=0.15.0\n",
            "\u001b[?25l  Downloading https://files.pythonhosted.org/packages/7e/39/186f14f3836ac5d2a6a042c8de69988770e8b9abb537610edc429e4914aa/ruamel.yaml-0.16.12-py2.py3-none-any.whl (111kB)\n",
            "\u001b[K     |████████████████████████████████| 112kB 15.6MB/s \n",
            "\u001b[?25hCollecting filterpy\n",
            "\u001b[?25l  Downloading https://files.pythonhosted.org/packages/f6/1d/ac8914360460fafa1990890259b7fa5ef7ba4cd59014e782e4ab3ab144d8/filterpy-1.4.5.zip (177kB)\n",
            "\u001b[K     |████████████████████████████████| 184kB 14.6MB/s \n",
            "\u001b[?25hRequirement already satisfied: moviepy<=1.0.1 in /usr/local/lib/python3.6/dist-packages (from deeplabcut) (0.2.3.5)\n",
            "Requirement already satisfied: imgaug in /usr/local/lib/python3.6/dist-packages (from deeplabcut) (0.2.9)\n",
            "Collecting opencv-python-headless\n",
            "\u001b[?25l  Downloading https://files.pythonhosted.org/packages/96/fc/4da675cc522a749ebbcf85c5a63fba844b2d44c87e6f24e3fdb147df3270/opencv_python_headless-4.5.1.48-cp36-cp36m-manylinux2014_x86_64.whl (37.6MB)\n",
            "\u001b[K     |████████████████████████████████| 37.6MB 1.3MB/s \n",
            "\u001b[?25hRequirement already satisfied: intel-openmp in /usr/local/lib/python3.6/dist-packages (from deeplabcut) (2021.1.2)\n",
            "Collecting matplotlib==3.1.3\n",
            "\u001b[?25l  Downloading https://files.pythonhosted.org/packages/7e/07/4b361d6d0f4e08942575f83a11d33f36897e1aae4279046606dd1808778a/matplotlib-3.1.3-cp36-cp36m-manylinux1_x86_64.whl (13.1MB)\n",
            "\u001b[K     |████████████████████████████████| 13.1MB 36.6MB/s \n",
            "\u001b[?25hCollecting statsmodels>=0.11\n",
            "\u001b[?25l  Downloading https://files.pythonhosted.org/packages/be/4c/9e2435ca6645d6bafa2b51bb11f0a365b28934a2ffe9d6e339d67130926d/statsmodels-0.12.1-cp36-cp36m-manylinux1_x86_64.whl (9.5MB)\n",
            "\u001b[K     |████████████████████████████████| 9.5MB 34.1MB/s \n",
            "\u001b[?25hRequirement already satisfied: tqdm in /usr/local/lib/python3.6/dist-packages (from deeplabcut) (4.41.1)\n",
            "Requirement already satisfied: h5py in /usr/local/lib/python3.6/dist-packages (from deeplabcut) (2.10.0)\n",
            "Requirement already satisfied: tables in /usr/local/lib/python3.6/dist-packages (from deeplabcut) (3.4.4)\n",
            "Requirement already satisfied: pyyaml in /usr/local/lib/python3.6/dist-packages (from deeplabcut) (3.13)\n",
            "Requirement already satisfied: ipython in /usr/local/lib/python3.6/dist-packages (from deeplabcut) (5.5.0)\n",
            "Requirement already satisfied: ipython-genutils in /usr/local/lib/python3.6/dist-packages (from deeplabcut) (0.2.0)\n",
            "Requirement already satisfied: wheel in /usr/local/lib/python3.6/dist-packages (from deeplabcut) (0.36.2)\n",
            "Collecting bayesian-optimization\n",
            "  Downloading https://files.pythonhosted.org/packages/bb/7a/fd8059a3881d3ab37ac8f72f56b73937a14e8bb14a9733e68cc8b17dbe3c/bayesian-optimization-1.2.0.tar.gz\n",
            "Requirement already satisfied: certifi in /usr/local/lib/python3.6/dist-packages (from deeplabcut) (2020.12.5)\n",
            "Requirement already satisfied: chardet in /usr/local/lib/python3.6/dist-packages (from deeplabcut) (3.0.4)\n",
            "Requirement already satisfied: patsy in /usr/local/lib/python3.6/dist-packages (from deeplabcut) (0.5.1)\n",
            "Requirement already satisfied: scikit-learn in /usr/local/lib/python3.6/dist-packages (from deeplabcut) (0.22.2.post1)\n",
            "Requirement already satisfied: click in /usr/local/lib/python3.6/dist-packages (from deeplabcut) (7.1.2)\n",
            "Requirement already satisfied: easydict in /usr/local/lib/python3.6/dist-packages (from deeplabcut) (1.9)\n",
            "Requirement already satisfied: six in /usr/local/lib/python3.6/dist-packages (from deeplabcut) (1.15.0)\n",
            "Requirement already satisfied: scikit-image in /usr/local/lib/python3.6/dist-packages (from deeplabcut) (0.16.2)\n",
            "Requirement already satisfied: scipy>=1.4 in /usr/local/lib/python3.6/dist-packages (from deeplabcut) (1.4.1)\n",
            "Requirement already satisfied: pandas>=1.0.1 in /usr/local/lib/python3.6/dist-packages (from deeplabcut) (1.1.5)\n",
            "Requirement already satisfied: python-dateutil in /usr/local/lib/python3.6/dist-packages (from deeplabcut) (2.8.1)\n",
            "Collecting tensorpack==0.9.8\n",
            "\u001b[?25l  Downloading https://files.pythonhosted.org/packages/a8/cb/62dc9115722a0b4fbeca6275ffbe47118149171ffafa7d1db6e295453aae/tensorpack-0.9.8-py2.py3-none-any.whl (288kB)\n",
            "\u001b[K     |████████████████████████████████| 296kB 44.4MB/s \n",
            "\u001b[?25hRequirement already satisfied: requests in /usr/local/lib/python3.6/dist-packages (from deeplabcut) (2.23.0)\n",
            "Requirement already satisfied: setuptools in /usr/local/lib/python3.6/dist-packages (from deeplabcut) (51.3.3)\n",
            "Requirement already satisfied: cython in /usr/local/lib/python3.6/dist-packages (from deeplabcut) (0.29.21)\n",
            "Collecting numba==0.51.1\n",
            "\u001b[?25l  Downloading https://files.pythonhosted.org/packages/28/98/862d341b3c97c7fb028888f25d574f33a2550b82bde9859562cc840a22d6/numba-0.51.1-cp36-cp36m-manylinux2014_x86_64.whl (3.1MB)\n",
            "\u001b[K     |████████████████████████████████| 3.1MB 39.4MB/s \n",
            "\u001b[?25hCollecting numpy==1.16.4\n",
            "\u001b[?25l  Downloading https://files.pythonhosted.org/packages/87/2d/e4656149cbadd3a8a0369fcd1a9c7d61cc7b87b3903b85389c70c989a696/numpy-1.16.4-cp36-cp36m-manylinux1_x86_64.whl (17.3MB)\n",
            "\u001b[K     |████████████████████████████████| 17.3MB 362kB/s \n",
            "\u001b[?25hCollecting ruamel.yaml.clib>=0.1.2; platform_python_implementation == \"CPython\" and python_version < \"3.9\"\n",
            "\u001b[?25l  Downloading https://files.pythonhosted.org/packages/88/ff/ec25dc01ef04232a9e68ff18492e37dfa01f1f58172e702ad4f38536d41b/ruamel.yaml.clib-0.2.2-cp36-cp36m-manylinux1_x86_64.whl (549kB)\n",
            "\u001b[K     |████████████████████████████████| 552kB 39.7MB/s \n",
            "\u001b[?25hRequirement already satisfied: decorator<5.0,>=4.0.2 in /usr/local/lib/python3.6/dist-packages (from moviepy<=1.0.1->deeplabcut) (4.4.2)\n",
            "Requirement already satisfied: imageio<3.0,>=2.1.2 in /usr/local/lib/python3.6/dist-packages (from moviepy<=1.0.1->deeplabcut) (2.4.1)\n",
            "Requirement already satisfied: Pillow in /usr/local/lib/python3.6/dist-packages (from imgaug->deeplabcut) (7.0.0)\n",
            "Requirement already satisfied: opencv-python in /usr/local/lib/python3.6/dist-packages (from imgaug->deeplabcut) (4.1.2.30)\n",
            "Requirement already satisfied: Shapely in /usr/local/lib/python3.6/dist-packages (from imgaug->deeplabcut) (1.7.1)\n",
            "Requirement already satisfied: cycler>=0.10 in /usr/local/lib/python3.6/dist-packages (from matplotlib==3.1.3->deeplabcut) (0.10.0)\n",
            "Requirement already satisfied: pyparsing!=2.0.4,!=2.1.2,!=2.1.6,>=2.0.1 in /usr/local/lib/python3.6/dist-packages (from matplotlib==3.1.3->deeplabcut) (2.4.7)\n",
            "Requirement already satisfied: kiwisolver>=1.0.1 in /usr/local/lib/python3.6/dist-packages (from matplotlib==3.1.3->deeplabcut) (1.3.1)\n",
            "Requirement already satisfied: numexpr>=2.5.2 in /usr/local/lib/python3.6/dist-packages (from tables->deeplabcut) (2.7.2)\n",
            "Requirement already satisfied: pexpect; sys_platform != \"win32\" in /usr/local/lib/python3.6/dist-packages (from ipython->deeplabcut) (4.8.0)\n",
            "Requirement already satisfied: simplegeneric>0.8 in /usr/local/lib/python3.6/dist-packages (from ipython->deeplabcut) (0.8.1)\n",
            "Requirement already satisfied: traitlets>=4.2 in /usr/local/lib/python3.6/dist-packages (from ipython->deeplabcut) (4.3.3)\n",
            "Requirement already satisfied: prompt-toolkit<2.0.0,>=1.0.4 in /usr/local/lib/python3.6/dist-packages (from ipython->deeplabcut) (1.0.18)\n",
            "Requirement already satisfied: pygments in /usr/local/lib/python3.6/dist-packages (from ipython->deeplabcut) (2.6.1)\n",
            "Requirement already satisfied: pickleshare in /usr/local/lib/python3.6/dist-packages (from ipython->deeplabcut) (0.7.5)\n",
            "Requirement already satisfied: joblib>=0.11 in /usr/local/lib/python3.6/dist-packages (from scikit-learn->deeplabcut) (1.0.0)\n",
            "Requirement already satisfied: networkx>=2.0 in /usr/local/lib/python3.6/dist-packages (from scikit-image->deeplabcut) (2.5)\n",
            "Requirement already satisfied: PyWavelets>=0.4.0 in /usr/local/lib/python3.6/dist-packages (from scikit-image->deeplabcut) (1.1.1)\n",
            "Requirement already satisfied: pytz>=2017.2 in /usr/local/lib/python3.6/dist-packages (from pandas>=1.0.1->deeplabcut) (2018.9)\n",
            "Requirement already satisfied: psutil>=5 in /usr/local/lib/python3.6/dist-packages (from tensorpack==0.9.8->deeplabcut) (5.4.8)\n",
            "Requirement already satisfied: msgpack>=0.5.2 in /usr/local/lib/python3.6/dist-packages (from tensorpack==0.9.8->deeplabcut) (1.0.2)\n",
            "Requirement already satisfied: tabulate>=0.7.7 in /usr/local/lib/python3.6/dist-packages (from tensorpack==0.9.8->deeplabcut) (0.8.7)\n",
            "Requirement already satisfied: pyzmq>=16 in /usr/local/lib/python3.6/dist-packages (from tensorpack==0.9.8->deeplabcut) (21.0.2)\n",
            "Requirement already satisfied: termcolor>=1.1 in /usr/local/lib/python3.6/dist-packages (from tensorpack==0.9.8->deeplabcut) (1.1.0)\n",
            "Collecting msgpack-numpy>=0.4.4.2\n",
            "  Downloading https://files.pythonhosted.org/packages/19/05/05b8d7c69c6abb36a34325cc3150089bdafc359f0a81fb998d93c5d5c737/msgpack_numpy-0.4.7.1-py2.py3-none-any.whl\n",
            "Requirement already satisfied: idna<3,>=2.5 in /usr/local/lib/python3.6/dist-packages (from requests->deeplabcut) (2.10)\n",
            "Requirement already satisfied: urllib3!=1.25.0,!=1.25.1,<1.26,>=1.21.1 in /usr/local/lib/python3.6/dist-packages (from requests->deeplabcut) (1.24.3)\n",
            "Requirement already satisfied: llvmlite<0.35,>=0.34.0.dev0 in /usr/local/lib/python3.6/dist-packages (from numba==0.51.1->deeplabcut) (0.34.0)\n",
            "Requirement already satisfied: ptyprocess>=0.5 in /usr/local/lib/python3.6/dist-packages (from pexpect; sys_platform != \"win32\"->ipython->deeplabcut) (0.7.0)\n",
            "Requirement already satisfied: wcwidth in /usr/local/lib/python3.6/dist-packages (from prompt-toolkit<2.0.0,>=1.0.4->ipython->deeplabcut) (0.2.5)\n",
            "Building wheels for collected packages: filterpy, bayesian-optimization\n",
            "  Building wheel for filterpy (setup.py) ... \u001b[?25l\u001b[?25hdone\n",
            "  Created wheel for filterpy: filename=filterpy-1.4.5-cp36-none-any.whl size=110453 sha256=8beb5c423db77a005bec9f5aa14699b7ff10b927d2b4c2d2f8fffaafc4fd2165\n",
            "  Stored in directory: /root/.cache/pip/wheels/c3/0c/dd/e92392c3f38a41371602d99fc77d6c1d42aadbf0c6afccdd02\n",
            "  Building wheel for bayesian-optimization (setup.py) ... \u001b[?25l\u001b[?25hdone\n",
            "  Created wheel for bayesian-optimization: filename=bayesian_optimization-1.2.0-cp36-none-any.whl size=11685 sha256=74a712d76a9bedf85bffa0dc08114970249fdf2d55ce0682da1ea95bb853bdb8\n",
            "  Stored in directory: /root/.cache/pip/wheels/5a/56/ae/e0e3c1fc1954dc3ec712e2df547235ed072b448094d8f94aec\n",
            "Successfully built filterpy bayesian-optimization\n",
            "\u001b[31mERROR: umap-learn 0.5.0 has requirement numpy>=1.17, but you'll have numpy 1.16.4 which is incompatible.\u001b[0m\n",
            "\u001b[31mERROR: tensorflow 2.4.1 has requirement numpy~=1.19.2, but you'll have numpy 1.16.4 which is incompatible.\u001b[0m\n",
            "\u001b[31mERROR: pynndescent 0.5.1 has requirement numba>=0.51.2, but you'll have numba 0.51.1 which is incompatible.\u001b[0m\n",
            "\u001b[31mERROR: datascience 0.10.6 has requirement folium==0.2.1, but you'll have folium 0.8.3 which is incompatible.\u001b[0m\n",
            "\u001b[31mERROR: albumentations 0.1.12 has requirement imgaug<0.2.7,>=0.2.5, but you'll have imgaug 0.2.9 which is incompatible.\u001b[0m\n",
            "Installing collected packages: ruamel.yaml.clib, ruamel.yaml, numpy, matplotlib, filterpy, opencv-python-headless, statsmodels, bayesian-optimization, msgpack-numpy, tensorpack, numba, deeplabcut\n",
            "  Found existing installation: numpy 1.19.5\n",
            "    Uninstalling numpy-1.19.5:\n",
            "      Successfully uninstalled numpy-1.19.5\n",
            "  Found existing installation: matplotlib 3.2.2\n",
            "    Uninstalling matplotlib-3.2.2:\n",
            "      Successfully uninstalled matplotlib-3.2.2\n",
            "  Found existing installation: statsmodels 0.10.2\n",
            "    Uninstalling statsmodels-0.10.2:\n",
            "      Successfully uninstalled statsmodels-0.10.2\n",
            "  Found existing installation: numba 0.51.2\n",
            "    Uninstalling numba-0.51.2:\n",
            "      Successfully uninstalled numba-0.51.2\n",
            "Successfully installed bayesian-optimization-1.2.0 deeplabcut-2.1.10 filterpy-1.4.5 matplotlib-3.1.3 msgpack-numpy-0.4.7.1 numba-0.51.1 numpy-1.16.4 opencv-python-headless-4.5.1.48 ruamel.yaml-0.16.12 ruamel.yaml.clib-0.2.2 statsmodels-0.12.1 tensorpack-0.9.8\n"
          ],
          "name": "stdout"
        },
        {
          "output_type": "display_data",
          "data": {
            "application/vnd.colab-display-data+json": {
              "pip_warning": {
                "packages": [
                  "matplotlib",
                  "mpl_toolkits",
                  "numpy"
                ]
              }
            }
          },
          "metadata": {
            "tags": []
          }
        }
      ]
    },
    {
      "cell_type": "code",
      "source": [
        "#GUIs don't work on the cloud, so we will supress wxPython: \n",
        "import os\n",
        "os.environ[\"DLClight\"]=\"True\"\n",
        "\n",
        "import deeplabcut"
      ],
      "metadata": {
        "id": "6G9SaeSA5VJ1"
      },
      "execution_count": null,
      "outputs": []
    },
    {
      "cell_type": "code",
      "source": [
        "#Connect our google drive.\n",
        "from google.colab import drive\n",
        "drive.mount('/content/drive')"
      ],
      "metadata": {
        "id": "UzdjcUEC5VYA"
      },
      "execution_count": null,
      "outputs": []
    },
    {
      "cell_type": "code",
      "source": [
        "%cd /content/drive/MyDrive/DeepLabCut/Proboscis_Tracking"
      ],
      "metadata": {
        "id": "uqKidB72LBpe"
      },
      "execution_count": null,
      "outputs": []
    },
    {
      "cell_type": "code",
      "metadata": {
        "colab": {
          "base_uri": "https://localhost:8080/"
        },
        "id": "Q-54NJaVoF4J",
        "outputId": "6d26493a-349b-4482-f7c3-ac8f8d72fc5c"
      },
      "source": [
        "# Use TensorFlow 1.x:\n",
        "%tensorflow_version 1.x"
      ],
      "execution_count": null,
      "outputs": [
        {
          "output_type": "stream",
          "text": [
            "TensorFlow 1.x selected.\n"
          ],
          "name": "stdout"
        }
      ]
    },
    {
      "cell_type": "code",
      "metadata": {
        "id": "7vnaVh6eoGWx"
      },
      "source": [
        "#create a path variable that links to the config file:\n",
        "path_config_file = '/content/drive/MyDrive/DeepLabCut/Proboscis_Tracking/Tracking_config.yaml'"
      ],
      "execution_count": null,
      "outputs": []
    },
    {
      "cell_type": "code",
      "metadata": {
        "colab": {
          "base_uri": "https://localhost:8080/"
        },
        "id": "xl39b78Qy8g7",
        "outputId": "8f88fd9d-20b1-4551-b0da-61870ad48b51"
      },
      "source": [
        "#Train the neural network using the labelled frames we have specified in the GUI.\n",
        "deeplabcut.create_training_dataset(path_config_file)\n",
        "deeplabcut.train_network(path_config_file, shuffle=1, saveiters=25000, displayiters=500)"
      ],
      "execution_count": null,
      "outputs": [
        {
          "output_type": "stream",
          "text": [
            "/content/drive/MyDrive/DeepLabCut/New_start_from_scratch-Philip-2021-01-28/training-datasets/iteration-0/UnaugmentedDataSet_New_start_from_scratchJan28  already exists!\n",
            "It appears that the images were labeled on a Windows system, but you are currently trying to create a training set on a Unix system. \n",
            " In this case the paths should be converted. Do you want to proceed with the conversion?\n",
            "yes/noyes\n",
            "Annotation data converted to unix format...\n"
          ],
          "name": "stdout"
        },
        {
          "output_type": "stream",
          "text": [
            "Config:\n",
            "{'all_joints': [[0], [1], [2], [3], [4], [5], [6]],\n",
            " 'all_joints_names': ['FrontEye',\n",
            "                      'TopEye',\n",
            "                      'MaxPalp',\n",
            "                      'UnderMaxPalp',\n",
            "                      'FrontLabellum',\n",
            "                      'BottomLabellum',\n",
            "                      'TopRostrum'],\n",
            " 'alpha_r': 0.02,\n",
            " 'batch_size': 1,\n",
            " 'crop_pad': 0,\n",
            " 'cropratio': 0.4,\n",
            " 'dataset': 'training-datasets/iteration-0/UnaugmentedDataSet_New_start_from_scratchJan28/New_start_from_scratch_Philip95shuffle1.mat',\n",
            " 'dataset_type': 'default',\n",
            " 'decay_steps': 30000,\n",
            " 'deterministic': False,\n",
            " 'display_iters': 1000,\n",
            " 'fg_fraction': 0.25,\n",
            " 'global_scale': 0.8,\n",
            " 'init_weights': '/usr/local/lib/python3.6/dist-packages/deeplabcut/pose_estimation_tensorflow/models/pretrained/resnet_v1_50.ckpt',\n",
            " 'intermediate_supervision': False,\n",
            " 'intermediate_supervision_layer': 12,\n",
            " 'location_refinement': True,\n",
            " 'locref_huber_loss': True,\n",
            " 'locref_loss_weight': 0.05,\n",
            " 'locref_stdev': 7.2801,\n",
            " 'log_dir': 'log',\n",
            " 'lr_init': 0.0005,\n",
            " 'max_input_size': 1500,\n",
            " 'mean_pixel': [123.68, 116.779, 103.939],\n",
            " 'metadataset': 'training-datasets/iteration-0/UnaugmentedDataSet_New_start_from_scratchJan28/Documentation_data-New_start_from_scratch_95shuffle1.pickle',\n",
            " 'min_input_size': 64,\n",
            " 'mirror': False,\n",
            " 'multi_step': [[0.005, 10000],\n",
            "                [0.02, 430000],\n",
            "                [0.002, 730000],\n",
            "                [0.001, 1030000]],\n",
            " 'net_type': 'resnet_50',\n",
            " 'num_joints': 7,\n",
            " 'optimizer': 'sgd',\n",
            " 'pairwise_huber_loss': False,\n",
            " 'pairwise_predict': False,\n",
            " 'partaffinityfield_predict': False,\n",
            " 'pos_dist_thresh': 17,\n",
            " 'project_path': '/content/drive/MyDrive/DeepLabCut/New_start_from_scratch-Philip-2021-01-28',\n",
            " 'regularize': False,\n",
            " 'rotation': 25,\n",
            " 'rotratio': 0.4,\n",
            " 'save_iters': 50000,\n",
            " 'scale_jitter_lo': 0.5,\n",
            " 'scale_jitter_up': 1.25,\n",
            " 'scoremap_dir': 'test',\n",
            " 'shuffle': True,\n",
            " 'snapshot_prefix': '/content/drive/MyDrive/DeepLabCut/New_start_from_scratch-Philip-2021-01-28/dlc-models/iteration-0/New_start_from_scratchJan28-trainset95shuffle1/train/snapshot',\n",
            " 'stride': 8.0,\n",
            " 'weigh_negatives': False,\n",
            " 'weigh_only_present_joints': False,\n",
            " 'weigh_part_predictions': False,\n",
            " 'weight_decay': 0.0001}\n"
          ],
          "name": "stderr"
        },
        {
          "output_type": "stream",
          "text": [
            "/content/drive/MyDrive/DeepLabCut/New_start_from_scratch-Philip-2021-01-28/dlc-models/iteration-0/New_start_from_scratchJan28-trainset95shuffle1  already exists!\n",
            "/content/drive/MyDrive/DeepLabCut/New_start_from_scratch-Philip-2021-01-28/dlc-models/iteration-0/New_start_from_scratchJan28-trainset95shuffle1/train  already exists!\n",
            "/content/drive/MyDrive/DeepLabCut/New_start_from_scratch-Philip-2021-01-28/dlc-models/iteration-0/New_start_from_scratchJan28-trainset95shuffle1/test  already exists!\n",
            "The training dataset is successfully created. Use the function 'train_network' to start training. Happy training!\n",
            "Selecting single-animal trainer\n",
            "Starting with imgaug pose-dataset loader (=default).\n",
            "Batch Size is 1\n",
            "Initializing ResNet\n",
            "Loading ImageNet-pretrained resnet_50\n",
            "Display_iters overwritten as 500\n",
            "Save_iters overwritten as 25000\n",
            "Training parameter:\n",
            "{'stride': 8.0, 'weigh_part_predictions': False, 'weigh_negatives': False, 'fg_fraction': 0.25, 'mean_pixel': [123.68, 116.779, 103.939], 'shuffle': True, 'snapshot_prefix': '/content/drive/MyDrive/DeepLabCut/New_start_from_scratch-Philip-2021-01-28/dlc-models/iteration-0/New_start_from_scratchJan28-trainset95shuffle1/train/snapshot', 'log_dir': 'log', 'global_scale': 0.8, 'location_refinement': True, 'locref_stdev': 7.2801, 'locref_loss_weight': 0.05, 'locref_huber_loss': True, 'optimizer': 'sgd', 'intermediate_supervision': False, 'intermediate_supervision_layer': 12, 'regularize': False, 'weight_decay': 0.0001, 'crop_pad': 0, 'scoremap_dir': 'test', 'batch_size': 1, 'dataset_type': 'default', 'deterministic': False, 'mirror': False, 'pairwise_huber_loss': False, 'weigh_only_present_joints': False, 'partaffinityfield_predict': False, 'pairwise_predict': False, 'all_joints': [[0], [1], [2], [3], [4], [5], [6]], 'all_joints_names': ['FrontEye', 'TopEye', 'MaxPalp', 'UnderMaxPalp', 'FrontLabellum', 'BottomLabellum', 'TopRostrum'], 'alpha_r': 0.02, 'cropratio': 0.4, 'dataset': 'training-datasets/iteration-0/UnaugmentedDataSet_New_start_from_scratchJan28/New_start_from_scratch_Philip95shuffle1.mat', 'decay_steps': 30000, 'display_iters': 1000, 'init_weights': '/usr/local/lib/python3.6/dist-packages/deeplabcut/pose_estimation_tensorflow/models/pretrained/resnet_v1_50.ckpt', 'lr_init': 0.0005, 'max_input_size': 1500, 'metadataset': 'training-datasets/iteration-0/UnaugmentedDataSet_New_start_from_scratchJan28/Documentation_data-New_start_from_scratch_95shuffle1.pickle', 'min_input_size': 64, 'multi_step': [[0.005, 10000], [0.02, 430000], [0.002, 730000], [0.001, 1030000]], 'net_type': 'resnet_50', 'num_joints': 7, 'pos_dist_thresh': 17, 'project_path': '/content/drive/MyDrive/DeepLabCut/New_start_from_scratch-Philip-2021-01-28', 'rotation': 25, 'rotratio': 0.4, 'save_iters': 50000, 'scale_jitter_lo': 0.5, 'scale_jitter_up': 1.25, 'covering': True, 'elastic_transform': True, 'motion_blur': True, 'motion_blur_params': {'k': 7, 'angle': [-90, 90]}}\n",
            "Starting training....\n"
          ],
          "name": "stdout"
        },
        {
          "output_type": "stream",
          "text": [
            "iteration: 500 loss: 0.0320 lr: 0.005\n",
            "iteration: 1000 loss: 0.0212 lr: 0.005\n",
            "iteration: 1500 loss: 0.0176 lr: 0.005\n",
            "iteration: 2000 loss: 0.0163 lr: 0.005\n",
            "iteration: 2500 loss: 0.0146 lr: 0.005\n",
            "iteration: 3000 loss: 0.0137 lr: 0.005\n",
            "iteration: 3500 loss: 0.0125 lr: 0.005\n",
            "iteration: 4000 loss: 0.0116 lr: 0.005\n",
            "iteration: 4500 loss: 0.0121 lr: 0.005\n",
            "iteration: 5000 loss: 0.0114 lr: 0.005\n",
            "iteration: 5500 loss: 0.0109 lr: 0.005\n",
            "iteration: 6000 loss: 0.0101 lr: 0.005\n",
            "iteration: 6500 loss: 0.0102 lr: 0.005\n",
            "iteration: 7000 loss: 0.0092 lr: 0.005\n",
            "iteration: 7500 loss: 0.0087 lr: 0.005\n",
            "iteration: 8000 loss: 0.0087 lr: 0.005\n",
            "iteration: 8500 loss: 0.0086 lr: 0.005\n",
            "iteration: 9000 loss: 0.0090 lr: 0.005\n",
            "iteration: 9500 loss: 0.0080 lr: 0.005\n",
            "iteration: 10000 loss: 0.0082 lr: 0.005\n",
            "iteration: 10500 loss: 0.0110 lr: 0.02\n",
            "iteration: 11000 loss: 0.0109 lr: 0.02\n",
            "iteration: 11500 loss: 0.0100 lr: 0.02\n",
            "iteration: 12000 loss: 0.0093 lr: 0.02\n",
            "iteration: 12500 loss: 0.0085 lr: 0.02\n",
            "iteration: 13000 loss: 0.0079 lr: 0.02\n",
            "iteration: 13500 loss: 0.0078 lr: 0.02\n",
            "iteration: 14000 loss: 0.0071 lr: 0.02\n",
            "iteration: 14500 loss: 0.0065 lr: 0.02\n",
            "iteration: 15000 loss: 0.0065 lr: 0.02\n",
            "iteration: 15500 loss: 0.0062 lr: 0.02\n",
            "iteration: 16000 loss: 0.0065 lr: 0.02\n",
            "iteration: 16500 loss: 0.0063 lr: 0.02\n",
            "iteration: 17000 loss: 0.0065 lr: 0.02\n",
            "iteration: 17500 loss: 0.0059 lr: 0.02\n",
            "iteration: 18000 loss: 0.0056 lr: 0.02\n",
            "iteration: 18500 loss: 0.0056 lr: 0.02\n",
            "iteration: 19000 loss: 0.0056 lr: 0.02\n",
            "iteration: 19500 loss: 0.0056 lr: 0.02\n",
            "iteration: 20000 loss: 0.0051 lr: 0.02\n",
            "iteration: 20500 loss: 0.0055 lr: 0.02\n",
            "iteration: 21000 loss: 0.0054 lr: 0.02\n",
            "iteration: 21500 loss: 0.0054 lr: 0.02\n",
            "iteration: 22000 loss: 0.0052 lr: 0.02\n",
            "iteration: 22500 loss: 0.0049 lr: 0.02\n",
            "iteration: 23000 loss: 0.0049 lr: 0.02\n",
            "iteration: 23500 loss: 0.0047 lr: 0.02\n",
            "iteration: 24000 loss: 0.0050 lr: 0.02\n",
            "iteration: 24500 loss: 0.0048 lr: 0.02\n",
            "iteration: 25000 loss: 0.0047 lr: 0.02\n",
            "iteration: 25500 loss: 0.0045 lr: 0.02\n",
            "iteration: 26000 loss: 0.0046 lr: 0.02\n",
            "iteration: 26500 loss: 0.0043 lr: 0.02\n",
            "iteration: 27000 loss: 0.0044 lr: 0.02\n",
            "iteration: 27500 loss: 0.0047 lr: 0.02\n",
            "iteration: 28000 loss: 0.0045 lr: 0.02\n",
            "iteration: 28500 loss: 0.0042 lr: 0.02\n",
            "iteration: 29000 loss: 0.0044 lr: 0.02\n",
            "iteration: 29500 loss: 0.0046 lr: 0.02\n",
            "iteration: 30000 loss: 0.0046 lr: 0.02\n",
            "iteration: 30500 loss: 0.0043 lr: 0.02\n",
            "iteration: 31000 loss: 0.0043 lr: 0.02\n",
            "iteration: 31500 loss: 0.0044 lr: 0.02\n",
            "iteration: 32000 loss: 0.0041 lr: 0.02\n",
            "iteration: 32500 loss: 0.0042 lr: 0.02\n",
            "iteration: 33000 loss: 0.0039 lr: 0.02\n",
            "iteration: 33500 loss: 0.0042 lr: 0.02\n",
            "iteration: 34000 loss: 0.0039 lr: 0.02\n",
            "iteration: 34500 loss: 0.0040 lr: 0.02\n",
            "iteration: 35000 loss: 0.0040 lr: 0.02\n",
            "iteration: 35500 loss: 0.0039 lr: 0.02\n",
            "iteration: 36000 loss: 0.0040 lr: 0.02\n",
            "iteration: 36500 loss: 0.0038 lr: 0.02\n",
            "iteration: 37000 loss: 0.0041 lr: 0.02\n",
            "iteration: 37500 loss: 0.0038 lr: 0.02\n",
            "iteration: 38000 loss: 0.0040 lr: 0.02\n",
            "iteration: 38500 loss: 0.0038 lr: 0.02\n",
            "iteration: 39000 loss: 0.0038 lr: 0.02\n",
            "iteration: 39500 loss: 0.0036 lr: 0.02\n",
            "iteration: 40000 loss: 0.0036 lr: 0.02\n",
            "iteration: 40500 loss: 0.0036 lr: 0.02\n",
            "iteration: 41000 loss: 0.0036 lr: 0.02\n",
            "iteration: 41500 loss: 0.0037 lr: 0.02\n",
            "iteration: 42000 loss: 0.0037 lr: 0.02\n",
            "iteration: 42500 loss: 0.0034 lr: 0.02\n",
            "iteration: 43000 loss: 0.0036 lr: 0.02\n",
            "iteration: 43500 loss: 0.0035 lr: 0.02\n",
            "iteration: 44000 loss: 0.0036 lr: 0.02\n",
            "iteration: 44500 loss: 0.0036 lr: 0.02\n",
            "iteration: 45000 loss: 0.0036 lr: 0.02\n",
            "iteration: 45500 loss: 0.0034 lr: 0.02\n",
            "iteration: 46000 loss: 0.0034 lr: 0.02\n",
            "iteration: 46500 loss: 0.0035 lr: 0.02\n",
            "iteration: 47000 loss: 0.0035 lr: 0.02\n",
            "iteration: 47500 loss: 0.0035 lr: 0.02\n",
            "iteration: 48000 loss: 0.0032 lr: 0.02\n",
            "iteration: 48500 loss: 0.0035 lr: 0.02\n",
            "iteration: 49000 loss: 0.0033 lr: 0.02\n",
            "iteration: 49500 loss: 0.0031 lr: 0.02\n",
            "iteration: 50000 loss: 0.0033 lr: 0.02\n",
            "iteration: 50500 loss: 0.0033 lr: 0.02\n",
            "iteration: 51000 loss: 0.0031 lr: 0.02\n",
            "iteration: 51500 loss: 0.0034 lr: 0.02\n",
            "iteration: 52000 loss: 0.0034 lr: 0.02\n",
            "iteration: 52500 loss: 0.0032 lr: 0.02\n",
            "iteration: 53000 loss: 0.0032 lr: 0.02\n",
            "iteration: 53500 loss: 0.0034 lr: 0.02\n",
            "iteration: 54000 loss: 0.0032 lr: 0.02\n",
            "iteration: 54500 loss: 0.0037 lr: 0.02\n",
            "iteration: 55000 loss: 0.0031 lr: 0.02\n",
            "iteration: 55500 loss: 0.0032 lr: 0.02\n",
            "iteration: 56000 loss: 0.0031 lr: 0.02\n",
            "iteration: 56500 loss: 0.0030 lr: 0.02\n",
            "iteration: 57000 loss: 0.0031 lr: 0.02\n",
            "iteration: 57500 loss: 0.0032 lr: 0.02\n",
            "iteration: 58000 loss: 0.0030 lr: 0.02\n",
            "iteration: 58500 loss: 0.0031 lr: 0.02\n",
            "iteration: 59000 loss: 0.0031 lr: 0.02\n",
            "iteration: 59500 loss: 0.0030 lr: 0.02\n",
            "iteration: 60000 loss: 0.0033 lr: 0.02\n",
            "iteration: 60500 loss: 0.0033 lr: 0.02\n",
            "iteration: 61000 loss: 0.0031 lr: 0.02\n",
            "iteration: 61500 loss: 0.0029 lr: 0.02\n",
            "iteration: 62000 loss: 0.0030 lr: 0.02\n",
            "iteration: 62500 loss: 0.0030 lr: 0.02\n",
            "iteration: 63000 loss: 0.0031 lr: 0.02\n",
            "iteration: 63500 loss: 0.0031 lr: 0.02\n",
            "iteration: 64000 loss: 0.0030 lr: 0.02\n",
            "iteration: 64500 loss: 0.0029 lr: 0.02\n",
            "iteration: 65000 loss: 0.0029 lr: 0.02\n",
            "iteration: 65500 loss: 0.0030 lr: 0.02\n",
            "iteration: 66000 loss: 0.0030 lr: 0.02\n",
            "iteration: 66500 loss: 0.0028 lr: 0.02\n",
            "iteration: 67000 loss: 0.0029 lr: 0.02\n",
            "iteration: 67500 loss: 0.0028 lr: 0.02\n",
            "iteration: 68000 loss: 0.0029 lr: 0.02\n",
            "iteration: 68500 loss: 0.0028 lr: 0.02\n",
            "iteration: 69000 loss: 0.0027 lr: 0.02\n",
            "iteration: 69500 loss: 0.0029 lr: 0.02\n",
            "iteration: 70000 loss: 0.0029 lr: 0.02\n",
            "iteration: 70500 loss: 0.0028 lr: 0.02\n",
            "iteration: 71000 loss: 0.0026 lr: 0.02\n",
            "iteration: 71500 loss: 0.0029 lr: 0.02\n",
            "iteration: 72000 loss: 0.0028 lr: 0.02\n",
            "iteration: 72500 loss: 0.0027 lr: 0.02\n",
            "iteration: 73000 loss: 0.0029 lr: 0.02\n",
            "iteration: 73500 loss: 0.0029 lr: 0.02\n",
            "iteration: 74000 loss: 0.0026 lr: 0.02\n",
            "iteration: 74500 loss: 0.0026 lr: 0.02\n",
            "iteration: 75000 loss: 0.0027 lr: 0.02\n",
            "iteration: 75500 loss: 0.0027 lr: 0.02\n",
            "iteration: 76000 loss: 0.0028 lr: 0.02\n",
            "iteration: 76500 loss: 0.0028 lr: 0.02\n",
            "iteration: 77000 loss: 0.0027 lr: 0.02\n",
            "iteration: 77500 loss: 0.0027 lr: 0.02\n",
            "iteration: 78000 loss: 0.0028 lr: 0.02\n",
            "iteration: 78500 loss: 0.0027 lr: 0.02\n",
            "iteration: 79000 loss: 0.0027 lr: 0.02\n",
            "iteration: 79500 loss: 0.0027 lr: 0.02\n",
            "iteration: 80000 loss: 0.0028 lr: 0.02\n",
            "iteration: 80500 loss: 0.0027 lr: 0.02\n",
            "iteration: 81000 loss: 0.0027 lr: 0.02\n",
            "iteration: 81500 loss: 0.0027 lr: 0.02\n",
            "iteration: 82000 loss: 0.0028 lr: 0.02\n",
            "iteration: 82500 loss: 0.0027 lr: 0.02\n",
            "iteration: 83000 loss: 0.0026 lr: 0.02\n",
            "iteration: 83500 loss: 0.0028 lr: 0.02\n",
            "iteration: 84000 loss: 0.0026 lr: 0.02\n",
            "iteration: 84500 loss: 0.0025 lr: 0.02\n",
            "iteration: 85000 loss: 0.0026 lr: 0.02\n",
            "iteration: 85500 loss: 0.0025 lr: 0.02\n",
            "iteration: 86000 loss: 0.0026 lr: 0.02\n",
            "iteration: 86500 loss: 0.0025 lr: 0.02\n",
            "iteration: 87000 loss: 0.0026 lr: 0.02\n",
            "iteration: 87500 loss: 0.0026 lr: 0.02\n",
            "iteration: 88000 loss: 0.0027 lr: 0.02\n",
            "iteration: 88500 loss: 0.0027 lr: 0.02\n",
            "iteration: 89000 loss: 0.0026 lr: 0.02\n",
            "iteration: 89500 loss: 0.0025 lr: 0.02\n",
            "iteration: 90000 loss: 0.0025 lr: 0.02\n",
            "iteration: 90500 loss: 0.0027 lr: 0.02\n",
            "iteration: 91000 loss: 0.0027 lr: 0.02\n",
            "iteration: 91500 loss: 0.0026 lr: 0.02\n",
            "iteration: 92000 loss: 0.0025 lr: 0.02\n",
            "iteration: 92500 loss: 0.0025 lr: 0.02\n",
            "iteration: 93000 loss: 0.0025 lr: 0.02\n",
            "iteration: 93500 loss: 0.0026 lr: 0.02\n",
            "iteration: 94000 loss: 0.0025 lr: 0.02\n",
            "iteration: 94500 loss: 0.0026 lr: 0.02\n",
            "iteration: 95000 loss: 0.0025 lr: 0.02\n",
            "iteration: 95500 loss: 0.0024 lr: 0.02\n",
            "iteration: 96000 loss: 0.0025 lr: 0.02\n",
            "iteration: 96500 loss: 0.0024 lr: 0.02\n",
            "iteration: 97000 loss: 0.0023 lr: 0.02\n",
            "iteration: 97500 loss: 0.0025 lr: 0.02\n",
            "iteration: 98000 loss: 0.0025 lr: 0.02\n",
            "iteration: 98500 loss: 0.0024 lr: 0.02\n",
            "iteration: 99000 loss: 0.0025 lr: 0.02\n",
            "iteration: 99500 loss: 0.0024 lr: 0.02\n",
            "iteration: 100000 loss: 0.0025 lr: 0.02\n",
            "iteration: 100500 loss: 0.0024 lr: 0.02\n",
            "iteration: 101000 loss: 0.0025 lr: 0.02\n",
            "iteration: 101500 loss: 0.0025 lr: 0.02\n",
            "iteration: 102000 loss: 0.0025 lr: 0.02\n",
            "iteration: 102500 loss: 0.0024 lr: 0.02\n",
            "iteration: 103000 loss: 0.0024 lr: 0.02\n",
            "iteration: 103500 loss: 0.0024 lr: 0.02\n",
            "iteration: 104000 loss: 0.0025 lr: 0.02\n",
            "iteration: 104500 loss: 0.0024 lr: 0.02\n",
            "iteration: 105000 loss: 0.0023 lr: 0.02\n",
            "iteration: 105500 loss: 0.0023 lr: 0.02\n",
            "iteration: 106000 loss: 0.0024 lr: 0.02\n",
            "iteration: 106500 loss: 0.0024 lr: 0.02\n",
            "iteration: 107000 loss: 0.0023 lr: 0.02\n",
            "iteration: 107500 loss: 0.0023 lr: 0.02\n",
            "iteration: 108000 loss: 0.0024 lr: 0.02\n",
            "iteration: 108500 loss: 0.0024 lr: 0.02\n",
            "iteration: 109000 loss: 0.0023 lr: 0.02\n",
            "iteration: 109500 loss: 0.0024 lr: 0.02\n",
            "iteration: 110000 loss: 0.0024 lr: 0.02\n",
            "iteration: 110500 loss: 0.0024 lr: 0.02\n",
            "iteration: 111000 loss: 0.0024 lr: 0.02\n",
            "iteration: 111500 loss: 0.0023 lr: 0.02\n",
            "iteration: 112000 loss: 0.0024 lr: 0.02\n",
            "iteration: 112500 loss: 0.0022 lr: 0.02\n",
            "iteration: 113000 loss: 0.0022 lr: 0.02\n",
            "iteration: 113500 loss: 0.0022 lr: 0.02\n",
            "iteration: 114000 loss: 0.0022 lr: 0.02\n",
            "iteration: 114500 loss: 0.0023 lr: 0.02\n",
            "iteration: 115000 loss: 0.0023 lr: 0.02\n",
            "iteration: 115500 loss: 0.0024 lr: 0.02\n",
            "iteration: 116000 loss: 0.0023 lr: 0.02\n",
            "iteration: 116500 loss: 0.0023 lr: 0.02\n",
            "iteration: 117000 loss: 0.0023 lr: 0.02\n",
            "iteration: 117500 loss: 0.0023 lr: 0.02\n",
            "iteration: 118000 loss: 0.0024 lr: 0.02\n",
            "iteration: 118500 loss: 0.0023 lr: 0.02\n",
            "iteration: 119000 loss: 0.0022 lr: 0.02\n",
            "iteration: 119500 loss: 0.0023 lr: 0.02\n",
            "iteration: 120000 loss: 0.0023 lr: 0.02\n",
            "iteration: 120500 loss: 0.0023 lr: 0.02\n",
            "iteration: 121000 loss: 0.0022 lr: 0.02\n",
            "iteration: 121500 loss: 0.0022 lr: 0.02\n",
            "iteration: 122000 loss: 0.0022 lr: 0.02\n",
            "iteration: 122500 loss: 0.0021 lr: 0.02\n",
            "iteration: 123000 loss: 0.0023 lr: 0.02\n",
            "iteration: 123500 loss: 0.0024 lr: 0.02\n",
            "iteration: 124000 loss: 0.0023 lr: 0.02\n",
            "iteration: 124500 loss: 0.0023 lr: 0.02\n",
            "iteration: 125000 loss: 0.0022 lr: 0.02\n",
            "iteration: 125500 loss: 0.0022 lr: 0.02\n",
            "iteration: 126000 loss: 0.0024 lr: 0.02\n",
            "iteration: 126500 loss: 0.0021 lr: 0.02\n",
            "iteration: 127000 loss: 0.0022 lr: 0.02\n",
            "iteration: 127500 loss: 0.0022 lr: 0.02\n",
            "iteration: 128000 loss: 0.0023 lr: 0.02\n",
            "iteration: 128500 loss: 0.0023 lr: 0.02\n",
            "iteration: 129000 loss: 0.0022 lr: 0.02\n",
            "iteration: 129500 loss: 0.0023 lr: 0.02\n",
            "iteration: 130000 loss: 0.0022 lr: 0.02\n",
            "iteration: 130500 loss: 0.0022 lr: 0.02\n",
            "iteration: 131000 loss: 0.0023 lr: 0.02\n",
            "iteration: 131500 loss: 0.0022 lr: 0.02\n",
            "iteration: 132000 loss: 0.0021 lr: 0.02\n",
            "iteration: 132500 loss: 0.0021 lr: 0.02\n",
            "iteration: 133000 loss: 0.0023 lr: 0.02\n",
            "iteration: 133500 loss: 0.0022 lr: 0.02\n",
            "iteration: 134000 loss: 0.0022 lr: 0.02\n",
            "iteration: 134500 loss: 0.0022 lr: 0.02\n",
            "iteration: 135000 loss: 0.0020 lr: 0.02\n",
            "iteration: 135500 loss: 0.0022 lr: 0.02\n",
            "iteration: 136000 loss: 0.0021 lr: 0.02\n",
            "iteration: 136500 loss: 0.0023 lr: 0.02\n",
            "iteration: 137000 loss: 0.0023 lr: 0.02\n",
            "iteration: 137500 loss: 0.0022 lr: 0.02\n",
            "iteration: 138000 loss: 0.0022 lr: 0.02\n",
            "iteration: 138500 loss: 0.0021 lr: 0.02\n",
            "iteration: 139000 loss: 0.0021 lr: 0.02\n",
            "iteration: 139500 loss: 0.0022 lr: 0.02\n",
            "iteration: 140000 loss: 0.0021 lr: 0.02\n",
            "iteration: 140500 loss: 0.0021 lr: 0.02\n",
            "iteration: 141000 loss: 0.0021 lr: 0.02\n",
            "iteration: 141500 loss: 0.0020 lr: 0.02\n",
            "iteration: 142000 loss: 0.0021 lr: 0.02\n",
            "iteration: 142500 loss: 0.0021 lr: 0.02\n",
            "iteration: 143000 loss: 0.0021 lr: 0.02\n",
            "iteration: 143500 loss: 0.0021 lr: 0.02\n",
            "iteration: 144000 loss: 0.0021 lr: 0.02\n",
            "iteration: 144500 loss: 0.0021 lr: 0.02\n",
            "iteration: 145000 loss: 0.0021 lr: 0.02\n",
            "iteration: 145500 loss: 0.0022 lr: 0.02\n",
            "iteration: 146000 loss: 0.0020 lr: 0.02\n",
            "iteration: 146500 loss: 0.0021 lr: 0.02\n",
            "iteration: 147000 loss: 0.0021 lr: 0.02\n",
            "iteration: 147500 loss: 0.0021 lr: 0.02\n",
            "iteration: 148000 loss: 0.0022 lr: 0.02\n",
            "iteration: 148500 loss: 0.0022 lr: 0.02\n",
            "iteration: 149000 loss: 0.0021 lr: 0.02\n",
            "iteration: 149500 loss: 0.0021 lr: 0.02\n",
            "iteration: 150000 loss: 0.0021 lr: 0.02\n",
            "iteration: 150500 loss: 0.0022 lr: 0.02\n",
            "iteration: 151000 loss: 0.0021 lr: 0.02\n",
            "iteration: 151500 loss: 0.0021 lr: 0.02\n",
            "iteration: 152000 loss: 0.0021 lr: 0.02\n",
            "iteration: 152500 loss: 0.0021 lr: 0.02\n",
            "iteration: 153000 loss: 0.0021 lr: 0.02\n",
            "iteration: 153500 loss: 0.0021 lr: 0.02\n",
            "iteration: 154000 loss: 0.0021 lr: 0.02\n",
            "iteration: 154500 loss: 0.0021 lr: 0.02\n",
            "iteration: 155000 loss: 0.0020 lr: 0.02\n",
            "iteration: 155500 loss: 0.0021 lr: 0.02\n",
            "iteration: 156000 loss: 0.0021 lr: 0.02\n",
            "iteration: 156500 loss: 0.0020 lr: 0.02\n",
            "iteration: 157000 loss: 0.0020 lr: 0.02\n",
            "iteration: 157500 loss: 0.0020 lr: 0.02\n",
            "iteration: 158000 loss: 0.0021 lr: 0.02\n",
            "iteration: 158500 loss: 0.0021 lr: 0.02\n",
            "iteration: 159000 loss: 0.0020 lr: 0.02\n",
            "iteration: 159500 loss: 0.0021 lr: 0.02\n",
            "iteration: 160000 loss: 0.0021 lr: 0.02\n",
            "iteration: 160500 loss: 0.0020 lr: 0.02\n",
            "iteration: 161000 loss: 0.0020 lr: 0.02\n",
            "iteration: 161500 loss: 0.0020 lr: 0.02\n",
            "iteration: 162000 loss: 0.0020 lr: 0.02\n",
            "iteration: 162500 loss: 0.0020 lr: 0.02\n",
            "iteration: 163000 loss: 0.0020 lr: 0.02\n",
            "iteration: 163500 loss: 0.0020 lr: 0.02\n",
            "iteration: 164000 loss: 0.0021 lr: 0.02\n",
            "iteration: 164500 loss: 0.0020 lr: 0.02\n",
            "iteration: 165000 loss: 0.0021 lr: 0.02\n",
            "iteration: 165500 loss: 0.0020 lr: 0.02\n",
            "iteration: 166000 loss: 0.0019 lr: 0.02\n",
            "iteration: 166500 loss: 0.0020 lr: 0.02\n",
            "iteration: 167000 loss: 0.0019 lr: 0.02\n",
            "iteration: 167500 loss: 0.0020 lr: 0.02\n",
            "iteration: 168000 loss: 0.0021 lr: 0.02\n",
            "iteration: 168500 loss: 0.0020 lr: 0.02\n",
            "iteration: 169000 loss: 0.0020 lr: 0.02\n",
            "iteration: 169500 loss: 0.0019 lr: 0.02\n",
            "iteration: 170000 loss: 0.0019 lr: 0.02\n",
            "iteration: 170500 loss: 0.0022 lr: 0.02\n",
            "iteration: 171000 loss: 0.0020 lr: 0.02\n",
            "iteration: 171500 loss: 0.0021 lr: 0.02\n",
            "iteration: 172000 loss: 0.0019 lr: 0.02\n",
            "iteration: 172500 loss: 0.0021 lr: 0.02\n",
            "iteration: 173000 loss: 0.0019 lr: 0.02\n",
            "iteration: 173500 loss: 0.0021 lr: 0.02\n",
            "iteration: 174000 loss: 0.0020 lr: 0.02\n",
            "iteration: 174500 loss: 0.0020 lr: 0.02\n",
            "iteration: 175000 loss: 0.0020 lr: 0.02\n",
            "iteration: 175500 loss: 0.0020 lr: 0.02\n",
            "iteration: 176000 loss: 0.0019 lr: 0.02\n",
            "iteration: 176500 loss: 0.0021 lr: 0.02\n",
            "iteration: 177000 loss: 0.0020 lr: 0.02\n",
            "iteration: 177500 loss: 0.0019 lr: 0.02\n",
            "iteration: 178000 loss: 0.0020 lr: 0.02\n",
            "iteration: 178500 loss: 0.0020 lr: 0.02\n",
            "iteration: 179000 loss: 0.0019 lr: 0.02\n",
            "iteration: 179500 loss: 0.0019 lr: 0.02\n",
            "iteration: 180000 loss: 0.0020 lr: 0.02\n",
            "iteration: 180500 loss: 0.0020 lr: 0.02\n",
            "iteration: 181000 loss: 0.0020 lr: 0.02\n",
            "iteration: 181500 loss: 0.0020 lr: 0.02\n",
            "iteration: 182000 loss: 0.0020 lr: 0.02\n",
            "iteration: 182500 loss: 0.0019 lr: 0.02\n",
            "iteration: 183000 loss: 0.0019 lr: 0.02\n",
            "iteration: 183500 loss: 0.0019 lr: 0.02\n",
            "iteration: 184000 loss: 0.0020 lr: 0.02\n",
            "iteration: 184500 loss: 0.0019 lr: 0.02\n",
            "iteration: 185000 loss: 0.0020 lr: 0.02\n",
            "iteration: 185500 loss: 0.0020 lr: 0.02\n",
            "iteration: 186000 loss: 0.0020 lr: 0.02\n",
            "iteration: 186500 loss: 0.0019 lr: 0.02\n",
            "iteration: 187000 loss: 0.0019 lr: 0.02\n",
            "iteration: 187500 loss: 0.0019 lr: 0.02\n",
            "iteration: 188000 loss: 0.0020 lr: 0.02\n",
            "iteration: 188500 loss: 0.0019 lr: 0.02\n",
            "iteration: 189000 loss: 0.0019 lr: 0.02\n",
            "iteration: 189500 loss: 0.0020 lr: 0.02\n",
            "iteration: 190000 loss: 0.0019 lr: 0.02\n",
            "iteration: 190500 loss: 0.0021 lr: 0.02\n",
            "iteration: 191000 loss: 0.0020 lr: 0.02\n",
            "iteration: 191500 loss: 0.0020 lr: 0.02\n",
            "iteration: 192000 loss: 0.0020 lr: 0.02\n",
            "iteration: 192500 loss: 0.0021 lr: 0.02\n",
            "iteration: 193000 loss: 0.0020 lr: 0.02\n",
            "iteration: 193500 loss: 0.0019 lr: 0.02\n",
            "iteration: 194000 loss: 0.0019 lr: 0.02\n",
            "iteration: 194500 loss: 0.0019 lr: 0.02\n",
            "iteration: 195000 loss: 0.0019 lr: 0.02\n",
            "iteration: 195500 loss: 0.0020 lr: 0.02\n",
            "iteration: 196000 loss: 0.0019 lr: 0.02\n",
            "iteration: 196500 loss: 0.0019 lr: 0.02\n",
            "iteration: 197000 loss: 0.0019 lr: 0.02\n",
            "iteration: 197500 loss: 0.0019 lr: 0.02\n",
            "iteration: 198000 loss: 0.0019 lr: 0.02\n",
            "iteration: 198500 loss: 0.0019 lr: 0.02\n",
            "iteration: 199000 loss: 0.0019 lr: 0.02\n",
            "iteration: 199500 loss: 0.0020 lr: 0.02\n",
            "iteration: 200000 loss: 0.0019 lr: 0.02\n",
            "iteration: 200500 loss: 0.0018 lr: 0.02\n",
            "iteration: 201000 loss: 0.0019 lr: 0.02\n",
            "iteration: 201500 loss: 0.0018 lr: 0.02\n",
            "iteration: 202000 loss: 0.0019 lr: 0.02\n",
            "iteration: 202500 loss: 0.0019 lr: 0.02\n",
            "iteration: 203000 loss: 0.0019 lr: 0.02\n",
            "iteration: 203500 loss: 0.0018 lr: 0.02\n",
            "iteration: 204000 loss: 0.0020 lr: 0.02\n",
            "iteration: 204500 loss: 0.0019 lr: 0.02\n",
            "iteration: 205000 loss: 0.0018 lr: 0.02\n",
            "iteration: 205500 loss: 0.0018 lr: 0.02\n",
            "iteration: 206000 loss: 0.0018 lr: 0.02\n",
            "iteration: 206500 loss: 0.0019 lr: 0.02\n",
            "iteration: 207000 loss: 0.0019 lr: 0.02\n",
            "iteration: 207500 loss: 0.0019 lr: 0.02\n",
            "iteration: 208000 loss: 0.0019 lr: 0.02\n",
            "iteration: 208500 loss: 0.0018 lr: 0.02\n",
            "iteration: 209000 loss: 0.0019 lr: 0.02\n"
          ],
          "name": "stderr"
        }
      ]
    },
    {
      "cell_type": "code",
      "metadata": {
        "colab": {
          "base_uri": "https://localhost:8080/",
          "height": 1000
        },
        "id": "_M6OaPXpy82A",
        "outputId": "0daef013-f9f1-48bd-8c52-78f03e3ccf47"
      },
      "source": [
        "#Analyzed a select set of videos to assess the quality of this training.\n",
        "videofile_path = ['/content/drive/MyDrive/DeepLabCut/Compressed_train'] \n",
        "deeplabcut.analyze_videos(path_config_file, videofile_path, videotype='.mp4')\n",
        "deeplabcut.create_labeled_video(path_config_file, videofile_path, videotype='.mp4')"
      ],
      "execution_count": null,
      "outputs": [
        {
          "output_type": "stream",
          "text": [
            "Using snapshot-200000 for model /content/drive/MyDrive/DeepLabCut/New_start_from_scratch-Philip-2021-01-28/dlc-models/iteration-0/New_start_from_scratchJan28-trainset95shuffle1\n",
            "Initializing ResNet\n",
            "Analyzing all the videos in the directory...\n",
            "Starting to analyze %  /content/drive/MyDrive/DeepLabCut/Compressed_train/87_T.mp4\n",
            "/content/drive/MyDrive/DeepLabCut/Compressed_train  already exists!\n",
            "Loading  /content/drive/MyDrive/DeepLabCut/Compressed_train/87_T.mp4\n"
          ],
          "name": "stdout"
        },
        {
          "output_type": "stream",
          "text": [
            "\r  0%|          | 0/359 [00:00<?, ?it/s]"
          ],
          "name": "stderr"
        },
        {
          "output_type": "stream",
          "text": [
            "Duration of video [s]:  12.45 , recorded with  28.84 fps!\n",
            "Overall # of frames:  359  found with (before cropping) frame dimensions:  1280 1022\n",
            "Starting to extract posture\n"
          ],
          "name": "stdout"
        },
        {
          "output_type": "stream",
          "text": [
            "360it [00:24, 19.21it/s]                         "
          ],
          "name": "stderr"
        },
        {
          "output_type": "stream",
          "text": [
            "Detected frames:  359\n"
          ],
          "name": "stdout"
        },
        {
          "output_type": "stream",
          "text": [
            "\r360it [00:25, 13.99it/s]\n"
          ],
          "name": "stderr"
        },
        {
          "output_type": "stream",
          "text": [
            "Saving results in /content/drive/MyDrive/DeepLabCut/Compressed_train...\n",
            "Starting to analyze %  /content/drive/MyDrive/DeepLabCut/Compressed_train/503_T.mp4\n",
            "/content/drive/MyDrive/DeepLabCut/Compressed_train  already exists!\n",
            "Loading  /content/drive/MyDrive/DeepLabCut/Compressed_train/503_T.mp4\n"
          ],
          "name": "stdout"
        },
        {
          "output_type": "stream",
          "text": [
            "\r  0%|          | 0/368 [00:00<?, ?it/s]"
          ],
          "name": "stderr"
        },
        {
          "output_type": "stream",
          "text": [
            "Duration of video [s]:  12.89 , recorded with  28.56 fps!\n",
            "Overall # of frames:  368  found with (before cropping) frame dimensions:  1280 1024\n",
            "Starting to extract posture\n"
          ],
          "name": "stdout"
        },
        {
          "output_type": "stream",
          "text": [
            "370it [00:21, 17.56it/s]"
          ],
          "name": "stderr"
        },
        {
          "output_type": "stream",
          "text": [
            "Detected frames:  368\n",
            "Saving results in /content/drive/MyDrive/DeepLabCut/Compressed_train...\n",
            "Starting to analyze %  /content/drive/MyDrive/DeepLabCut/Compressed_train/98_T.mp4\n",
            "/content/drive/MyDrive/DeepLabCut/Compressed_train  already exists!\n",
            "Loading  /content/drive/MyDrive/DeepLabCut/Compressed_train/98_T.mp4\n"
          ],
          "name": "stdout"
        },
        {
          "output_type": "stream",
          "text": [
            "\n",
            "  0%|          | 0/463 [00:00<?, ?it/s]"
          ],
          "name": "stderr"
        },
        {
          "output_type": "stream",
          "text": [
            "Duration of video [s]:  15.89 , recorded with  29.14 fps!\n",
            "Overall # of frames:  463  found with (before cropping) frame dimensions:  1280 1024\n",
            "Starting to extract posture\n"
          ],
          "name": "stdout"
        },
        {
          "output_type": "stream",
          "text": [
            "470it [00:25, 19.10it/s]                         "
          ],
          "name": "stderr"
        },
        {
          "output_type": "stream",
          "text": [
            "Detected frames:  463\n"
          ],
          "name": "stdout"
        },
        {
          "output_type": "stream",
          "text": [
            "\r470it [00:25, 18.35it/s]\n"
          ],
          "name": "stderr"
        },
        {
          "output_type": "stream",
          "text": [
            "Saving results in /content/drive/MyDrive/DeepLabCut/Compressed_train...\n",
            "Starting to analyze %  /content/drive/MyDrive/DeepLabCut/Compressed_train/119_T.mp4\n",
            "/content/drive/MyDrive/DeepLabCut/Compressed_train  already exists!\n",
            "Loading  /content/drive/MyDrive/DeepLabCut/Compressed_train/119_T.mp4\n"
          ],
          "name": "stdout"
        },
        {
          "output_type": "stream",
          "text": [
            "\r  0%|          | 0/407 [00:00<?, ?it/s]"
          ],
          "name": "stderr"
        },
        {
          "output_type": "stream",
          "text": [
            "Duration of video [s]:  14.18 , recorded with  28.7 fps!\n",
            "Overall # of frames:  407  found with (before cropping) frame dimensions:  1280 806\n",
            "Starting to extract posture\n"
          ],
          "name": "stdout"
        },
        {
          "output_type": "stream",
          "text": [
            "410it [00:18, 20.48it/s]                         "
          ],
          "name": "stderr"
        },
        {
          "output_type": "stream",
          "text": [
            "Detected frames:  407\n"
          ],
          "name": "stdout"
        },
        {
          "output_type": "stream",
          "text": [
            "\r410it [00:18, 21.59it/s]\n"
          ],
          "name": "stderr"
        },
        {
          "output_type": "stream",
          "text": [
            "Saving results in /content/drive/MyDrive/DeepLabCut/Compressed_train...\n",
            "Starting to analyze %  /content/drive/MyDrive/DeepLabCut/Compressed_train/336_T.mp4\n",
            "/content/drive/MyDrive/DeepLabCut/Compressed_train  already exists!\n",
            "Loading  /content/drive/MyDrive/DeepLabCut/Compressed_train/336_T.mp4\n"
          ],
          "name": "stdout"
        },
        {
          "output_type": "stream",
          "text": [
            "\r  0%|          | 0/369 [00:00<?, ?it/s]"
          ],
          "name": "stderr"
        },
        {
          "output_type": "stream",
          "text": [
            "Duration of video [s]:  12.9 , recorded with  28.6 fps!\n",
            "Overall # of frames:  369  found with (before cropping) frame dimensions:  1280 1024\n",
            "Starting to extract posture\n"
          ],
          "name": "stdout"
        },
        {
          "output_type": "stream",
          "text": [
            "370it [00:19, 16.92it/s]                         "
          ],
          "name": "stderr"
        },
        {
          "output_type": "stream",
          "text": [
            "Detected frames:  369\n"
          ],
          "name": "stdout"
        },
        {
          "output_type": "stream",
          "text": [
            "\r370it [00:20, 18.27it/s]\n"
          ],
          "name": "stderr"
        },
        {
          "output_type": "stream",
          "text": [
            "Saving results in /content/drive/MyDrive/DeepLabCut/Compressed_train...\n",
            "Starting to analyze %  /content/drive/MyDrive/DeepLabCut/Compressed_train/Gr66a_T.mp4\n",
            "/content/drive/MyDrive/DeepLabCut/Compressed_train  already exists!\n",
            "Loading  /content/drive/MyDrive/DeepLabCut/Compressed_train/Gr66a_T.mp4\n"
          ],
          "name": "stdout"
        },
        {
          "output_type": "stream",
          "text": [
            "\r  0%|          | 0/443 [00:00<?, ?it/s]"
          ],
          "name": "stderr"
        },
        {
          "output_type": "stream",
          "text": [
            "Duration of video [s]:  15.35 , recorded with  28.85 fps!\n",
            "Overall # of frames:  443  found with (before cropping) frame dimensions:  1280 1010\n",
            "Starting to extract posture\n"
          ],
          "name": "stdout"
        },
        {
          "output_type": "stream",
          "text": [
            "450it [00:24, 16.92it/s]                         "
          ],
          "name": "stderr"
        },
        {
          "output_type": "stream",
          "text": [
            "Detected frames:  443\n"
          ],
          "name": "stdout"
        },
        {
          "output_type": "stream",
          "text": [
            "\r450it [00:24, 18.27it/s]\n"
          ],
          "name": "stderr"
        },
        {
          "output_type": "stream",
          "text": [
            "Saving results in /content/drive/MyDrive/DeepLabCut/Compressed_train...\n",
            "Starting to analyze %  /content/drive/MyDrive/DeepLabCut/Compressed_train/129_T.mp4\n",
            "/content/drive/MyDrive/DeepLabCut/Compressed_train  already exists!\n",
            "Loading  /content/drive/MyDrive/DeepLabCut/Compressed_train/129_T.mp4\n"
          ],
          "name": "stdout"
        },
        {
          "output_type": "stream",
          "text": [
            "\r  0%|          | 0/186 [00:00<?, ?it/s]"
          ],
          "name": "stderr"
        },
        {
          "output_type": "stream",
          "text": [
            "Duration of video [s]:  6.55 , recorded with  28.38 fps!\n",
            "Overall # of frames:  186  found with (before cropping) frame dimensions:  1264 812\n",
            "Starting to extract posture\n"
          ],
          "name": "stdout"
        },
        {
          "output_type": "stream",
          "text": [
            "190it [00:08, 23.42it/s]                         "
          ],
          "name": "stderr"
        },
        {
          "output_type": "stream",
          "text": [
            "Detected frames:  186\n"
          ],
          "name": "stdout"
        },
        {
          "output_type": "stream",
          "text": [
            "\r190it [00:09, 20.40it/s]\n"
          ],
          "name": "stderr"
        },
        {
          "output_type": "stream",
          "text": [
            "Saving results in /content/drive/MyDrive/DeepLabCut/Compressed_train...\n",
            "Starting to analyze %  /content/drive/MyDrive/DeepLabCut/Compressed_train/467_T.mp4\n",
            "/content/drive/MyDrive/DeepLabCut/Compressed_train  already exists!\n",
            "Loading  /content/drive/MyDrive/DeepLabCut/Compressed_train/467_T.mp4\n"
          ],
          "name": "stdout"
        },
        {
          "output_type": "stream",
          "text": [
            "\r  0%|          | 0/301 [00:00<?, ?it/s]"
          ],
          "name": "stderr"
        },
        {
          "output_type": "stream",
          "text": [
            "Duration of video [s]:  10.43 , recorded with  28.85 fps!\n",
            "Overall # of frames:  301  found with (before cropping) frame dimensions:  1280 1024\n",
            "Starting to extract posture\n"
          ],
          "name": "stdout"
        },
        {
          "output_type": "stream",
          "text": [
            "310it [00:16, 18.71it/s]                         "
          ],
          "name": "stderr"
        },
        {
          "output_type": "stream",
          "text": [
            "Detected frames:  301\n"
          ],
          "name": "stdout"
        },
        {
          "output_type": "stream",
          "text": [
            "\r310it [00:16, 18.32it/s]\n"
          ],
          "name": "stderr"
        },
        {
          "output_type": "stream",
          "text": [
            "Saving results in /content/drive/MyDrive/DeepLabCut/Compressed_train...\n",
            "Starting to analyze %  /content/drive/MyDrive/DeepLabCut/Compressed_train/494_T.mp4\n",
            "/content/drive/MyDrive/DeepLabCut/Compressed_train  already exists!\n",
            "Loading  /content/drive/MyDrive/DeepLabCut/Compressed_train/494_T.mp4\n"
          ],
          "name": "stdout"
        },
        {
          "output_type": "stream",
          "text": [
            "\r  0%|          | 0/295 [00:00<?, ?it/s]"
          ],
          "name": "stderr"
        },
        {
          "output_type": "stream",
          "text": [
            "Duration of video [s]:  10.44 , recorded with  28.26 fps!\n",
            "Overall # of frames:  295  found with (before cropping) frame dimensions:  1280 1024\n",
            "Starting to extract posture\n"
          ],
          "name": "stdout"
        },
        {
          "output_type": "stream",
          "text": [
            "300it [00:16, 17.62it/s]                         "
          ],
          "name": "stderr"
        },
        {
          "output_type": "stream",
          "text": [
            "Detected frames:  295\n"
          ],
          "name": "stdout"
        },
        {
          "output_type": "stream",
          "text": [
            "\r300it [00:16, 18.14it/s]\n"
          ],
          "name": "stderr"
        },
        {
          "output_type": "stream",
          "text": [
            "Saving results in /content/drive/MyDrive/DeepLabCut/Compressed_train...\n",
            "Starting to analyze %  /content/drive/MyDrive/DeepLabCut/Compressed_train/486_T.mp4\n",
            "/content/drive/MyDrive/DeepLabCut/Compressed_train  already exists!\n",
            "Loading  /content/drive/MyDrive/DeepLabCut/Compressed_train/486_T.mp4\n"
          ],
          "name": "stdout"
        },
        {
          "output_type": "stream",
          "text": [
            "\r  0%|          | 0/367 [00:00<?, ?it/s]"
          ],
          "name": "stderr"
        },
        {
          "output_type": "stream",
          "text": [
            "Duration of video [s]:  12.44 , recorded with  29.49 fps!\n",
            "Overall # of frames:  367  found with (before cropping) frame dimensions:  1280 1024\n",
            "Starting to extract posture\n"
          ],
          "name": "stdout"
        },
        {
          "output_type": "stream",
          "text": [
            "370it [00:19, 16.87it/s]                         "
          ],
          "name": "stderr"
        },
        {
          "output_type": "stream",
          "text": [
            "Detected frames:  367\n"
          ],
          "name": "stdout"
        },
        {
          "output_type": "stream",
          "text": [
            "\r370it [00:19, 18.68it/s]\n"
          ],
          "name": "stderr"
        },
        {
          "output_type": "stream",
          "text": [
            "Saving results in /content/drive/MyDrive/DeepLabCut/Compressed_train...\n",
            "Starting to analyze %  /content/drive/MyDrive/DeepLabCut/Compressed_train/573_T.mp4\n",
            "/content/drive/MyDrive/DeepLabCut/Compressed_train  already exists!\n",
            "Loading  /content/drive/MyDrive/DeepLabCut/Compressed_train/573_T.mp4\n"
          ],
          "name": "stdout"
        },
        {
          "output_type": "stream",
          "text": [
            "\r  0%|          | 0/344 [00:00<?, ?it/s]"
          ],
          "name": "stderr"
        },
        {
          "output_type": "stream",
          "text": [
            "Duration of video [s]:  12.08 , recorded with  28.48 fps!\n",
            "Overall # of frames:  344  found with (before cropping) frame dimensions:  1280 1024\n",
            "Starting to extract posture\n"
          ],
          "name": "stdout"
        },
        {
          "output_type": "stream",
          "text": [
            "350it [00:19, 18.34it/s]"
          ],
          "name": "stderr"
        },
        {
          "output_type": "stream",
          "text": [
            "Detected frames:  344\n",
            "Saving results in /content/drive/MyDrive/DeepLabCut/Compressed_train...\n",
            "Starting to analyze %  /content/drive/MyDrive/DeepLabCut/Compressed_train/501_T.mp4\n",
            "/content/drive/MyDrive/DeepLabCut/Compressed_train  already exists!\n",
            "Loading  /content/drive/MyDrive/DeepLabCut/Compressed_train/501_T.mp4\n"
          ],
          "name": "stdout"
        },
        {
          "output_type": "stream",
          "text": [
            "\n",
            "  0%|          | 0/308 [00:00<?, ?it/s]"
          ],
          "name": "stderr"
        },
        {
          "output_type": "stream",
          "text": [
            "Duration of video [s]:  11.15 , recorded with  27.63 fps!\n",
            "Overall # of frames:  308  found with (before cropping) frame dimensions:  1280 904\n",
            "Starting to extract posture\n"
          ],
          "name": "stdout"
        },
        {
          "output_type": "stream",
          "text": [
            "310it [00:15, 21.04it/s]                         "
          ],
          "name": "stderr"
        },
        {
          "output_type": "stream",
          "text": [
            "Detected frames:  308\n"
          ],
          "name": "stdout"
        },
        {
          "output_type": "stream",
          "text": [
            "\r310it [00:16, 18.91it/s]\n"
          ],
          "name": "stderr"
        },
        {
          "output_type": "stream",
          "text": [
            "Saving results in /content/drive/MyDrive/DeepLabCut/Compressed_train...\n",
            "Starting to analyze %  /content/drive/MyDrive/DeepLabCut/Compressed_train/493_T.mp4\n",
            "/content/drive/MyDrive/DeepLabCut/Compressed_train  already exists!\n",
            "Loading  /content/drive/MyDrive/DeepLabCut/Compressed_train/493_T.mp4\n"
          ],
          "name": "stdout"
        },
        {
          "output_type": "stream",
          "text": [
            "\r  0%|          | 0/445 [00:00<?, ?it/s]"
          ],
          "name": "stderr"
        },
        {
          "output_type": "stream",
          "text": [
            "Duration of video [s]:  15.7 , recorded with  28.34 fps!\n",
            "Overall # of frames:  445  found with (before cropping) frame dimensions:  968 976\n",
            "Starting to extract posture\n"
          ],
          "name": "stdout"
        },
        {
          "output_type": "stream",
          "text": [
            "450it [00:18, 22.16it/s]                         "
          ],
          "name": "stderr"
        },
        {
          "output_type": "stream",
          "text": [
            "Detected frames:  445\n"
          ],
          "name": "stdout"
        },
        {
          "output_type": "stream",
          "text": [
            "\r450it [00:19, 23.32it/s]\n"
          ],
          "name": "stderr"
        },
        {
          "output_type": "stream",
          "text": [
            "Saving results in /content/drive/MyDrive/DeepLabCut/Compressed_train...\n",
            "Starting to analyze %  /content/drive/MyDrive/DeepLabCut/Compressed_train/463_T.mp4\n",
            "/content/drive/MyDrive/DeepLabCut/Compressed_train  already exists!\n",
            "Loading  /content/drive/MyDrive/DeepLabCut/Compressed_train/463_T.mp4\n"
          ],
          "name": "stdout"
        },
        {
          "output_type": "stream",
          "text": [
            "\r  0%|          | 0/447 [00:00<?, ?it/s]"
          ],
          "name": "stderr"
        },
        {
          "output_type": "stream",
          "text": [
            "Duration of video [s]:  15.48 , recorded with  28.88 fps!\n",
            "Overall # of frames:  447  found with (before cropping) frame dimensions:  1280 1024\n",
            "Starting to extract posture\n"
          ],
          "name": "stdout"
        },
        {
          "output_type": "stream",
          "text": [
            "450it [00:23, 16.60it/s]                         "
          ],
          "name": "stderr"
        },
        {
          "output_type": "stream",
          "text": [
            "Detected frames:  447\n"
          ],
          "name": "stdout"
        },
        {
          "output_type": "stream",
          "text": [
            "\r450it [00:24, 18.59it/s]\n"
          ],
          "name": "stderr"
        },
        {
          "output_type": "stream",
          "text": [
            "Saving results in /content/drive/MyDrive/DeepLabCut/Compressed_train...\n",
            "Starting to analyze %  /content/drive/MyDrive/DeepLabCut/Compressed_train/370_T.mp4\n",
            "/content/drive/MyDrive/DeepLabCut/Compressed_train  already exists!\n",
            "Loading  /content/drive/MyDrive/DeepLabCut/Compressed_train/370_T.mp4\n"
          ],
          "name": "stdout"
        },
        {
          "output_type": "stream",
          "text": [
            "\r  0%|          | 0/300 [00:00<?, ?it/s]"
          ],
          "name": "stderr"
        },
        {
          "output_type": "stream",
          "text": [
            "Duration of video [s]:  10.49 , recorded with  28.6 fps!\n",
            "Overall # of frames:  300  found with (before cropping) frame dimensions:  1280 1024\n",
            "Starting to extract posture\n"
          ],
          "name": "stdout"
        },
        {
          "output_type": "stream",
          "text": [
            "310it [00:16, 19.40it/s]                         "
          ],
          "name": "stderr"
        },
        {
          "output_type": "stream",
          "text": [
            "Detected frames:  300\n"
          ],
          "name": "stdout"
        },
        {
          "output_type": "stream",
          "text": [
            "\r310it [00:16, 18.78it/s]\n"
          ],
          "name": "stderr"
        },
        {
          "output_type": "stream",
          "text": [
            "Saving results in /content/drive/MyDrive/DeepLabCut/Compressed_train...\n",
            "Starting to analyze %  /content/drive/MyDrive/DeepLabCut/Compressed_train/E49_T.mp4\n",
            "/content/drive/MyDrive/DeepLabCut/Compressed_train  already exists!\n",
            "Loading  /content/drive/MyDrive/DeepLabCut/Compressed_train/E49_T.mp4\n"
          ],
          "name": "stdout"
        },
        {
          "output_type": "stream",
          "text": [
            "\r  0%|          | 0/338 [00:00<?, ?it/s]"
          ],
          "name": "stderr"
        },
        {
          "output_type": "stream",
          "text": [
            "Duration of video [s]:  11.64 , recorded with  29.05 fps!\n",
            "Overall # of frames:  338  found with (before cropping) frame dimensions:  1280 1024\n",
            "Starting to extract posture\n"
          ],
          "name": "stdout"
        },
        {
          "output_type": "stream",
          "text": [
            "340it [00:18, 17.86it/s]                         "
          ],
          "name": "stderr"
        },
        {
          "output_type": "stream",
          "text": [
            "Detected frames:  338\n"
          ],
          "name": "stdout"
        },
        {
          "output_type": "stream",
          "text": [
            "\r340it [00:18, 17.95it/s]\n"
          ],
          "name": "stderr"
        },
        {
          "output_type": "stream",
          "text": [
            "Saving results in /content/drive/MyDrive/DeepLabCut/Compressed_train...\n",
            "Starting to analyze %  /content/drive/MyDrive/DeepLabCut/Compressed_train/NP1562_T.mp4\n",
            "/content/drive/MyDrive/DeepLabCut/Compressed_train  already exists!\n",
            "Loading  /content/drive/MyDrive/DeepLabCut/Compressed_train/NP1562_T.mp4\n"
          ],
          "name": "stdout"
        },
        {
          "output_type": "stream",
          "text": [
            "\r  0%|          | 0/410 [00:00<?, ?it/s]"
          ],
          "name": "stderr"
        },
        {
          "output_type": "stream",
          "text": [
            "Duration of video [s]:  14.08 , recorded with  29.12 fps!\n",
            "Overall # of frames:  410  found with (before cropping) frame dimensions:  1280 1024\n",
            "Starting to extract posture\n"
          ],
          "name": "stdout"
        },
        {
          "output_type": "stream",
          "text": [
            "420it [00:22, 18.17it/s]                         "
          ],
          "name": "stderr"
        },
        {
          "output_type": "stream",
          "text": [
            "Detected frames:  410\n"
          ],
          "name": "stdout"
        },
        {
          "output_type": "stream",
          "text": [
            "\r420it [00:22, 18.50it/s]"
          ],
          "name": "stderr"
        },
        {
          "output_type": "stream",
          "text": [
            "Saving results in /content/drive/MyDrive/DeepLabCut/Compressed_train...\n",
            "The videos are analyzed. Now your research can truly start! \n",
            " You can create labeled videos with 'create_labeled_video'\n",
            "If the tracking is not satisfactory for some videos, consider expanding the training set. You can use the function 'extract_outlier_frames' to extract a few representative outlier frames.\n"
          ],
          "name": "stdout"
        },
        {
          "output_type": "stream",
          "text": [
            "\n"
          ],
          "name": "stderr"
        },
        {
          "output_type": "execute_result",
          "data": {
            "application/vnd.google.colaboratory.intrinsic+json": {
              "type": "string"
            },
            "text/plain": [
              "'DLC_resnet_50_New_start_from_scratchJan28shuffle1_200000'"
            ]
          },
          "metadata": {
            "tags": []
          },
          "execution_count": 5
        }
      ]
    }
  ]
}